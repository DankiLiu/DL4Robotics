{
 "cells": [
  {
   "cell_type": "code",
   "execution_count": 2,
   "metadata": {
    "collapsed": true
   },
   "outputs": [],
   "source": [
    "import numpy as np\n",
    "import pandas as pd\n",
    "import matplotlib.pyplot as plt\n",
    "from Danki_Tobias.helper.environment_definitions import cripple_options_evaluation, cripple_options_training"
   ]
  },
  {
   "cell_type": "code",
   "execution_count": 8,
   "outputs": [
    {
     "data": {
      "text/plain": "<AxesSubplot:>"
     },
     "execution_count": 8,
     "metadata": {},
     "output_type": "execute_result"
    },
    {
     "data": {
      "text/plain": "<Figure size 432x288 with 1 Axes>",
      "image/png": "[encoded data removed]"
     },
     "metadata": {
      "needs_background": "light"
     },
     "output_type": "display_data"
    }
   ],
   "source": [
    "data_type_options = ['position', 'position_deltas', 'position_and_velocity', 'position_and_velocity_deltas']\n",
    "train_on_options = ['non_crippled', 'multiple_envs']\n",
    "algorithms = ['normal', 'online_adaptation', 'meta']\n",
    "names = ['training_0', 'training_1', 'training_2', 'training_3', 'training_4', 'training_5',\n",
    "         'eval_0', 'eval_1', 'eval_2', 'eval_3', 'eval_4', 'eval_5']\n",
    "\n",
    "training_names = ['training_0', 'training_1', 'training_2', 'training_3', 'training_4', 'training_5']\n",
    "evaluation_names = ['eval_0', 'eval_1', 'eval_2', 'eval_3', 'eval_4', 'eval_5']\n",
    "\n",
    "def read_average_reward(data_type, train_on, algorithm, name):\n",
    "    file_name = f'../data/{data_type}/on_policy/trained_on_{train_on}/{algorithm}/evaluation_{name}.txt'\n",
    "    with open(file_name, \"r\") as file:\n",
    "        file.readline()\n",
    "        file.readline()\n",
    "        text = file.readline()\n",
    "    _, average_reward = text.split(\"=\")\n",
    "    return float(average_reward)\n",
    "\n",
    "\n",
    "def read_all_rewards():\n",
    "    multi_index = pd.MultiIndex.from_product([data_type_options, train_on_options, algorithms, names],\n",
    "                                             names=[\"data_type\", \"train_on\", \"algorithm\", \"name\"])\n",
    "    rewards = []\n",
    "    for data_type in data_type_options:\n",
    "        for train_on in train_on_options:\n",
    "            for algorithm in algorithms:\n",
    "                for name in names:\n",
    "                    rewards.append(read_average_reward(data_type, train_on, algorithm, name))\n",
    "\n",
    "    all_rewards = pd.Series(rewards, index=multi_index)\n",
    "    return all_rewards\n",
    "\n",
    "def read_model_b_reset_weights():\n",
    "    rewards = []\n",
    "    for name in names:\n",
    "        rewards.append(read_average_reward('position_and_velocity_deltas', 'multiple_envs', 'online_adaptation_reset', name))\n",
    "    df = pd.Series(data=rewards, index=names)\n",
    "    return df\n",
    "\n",
    "all_rewards = read_all_rewards()\n",
    "model_b_reset_weights = read_model_b_reset_weights()\n",
    "\n",
    "# inference time is taken from txt files in data folder\n",
    "inference_time = pd.Series(data = [0.04800125719471411, 0.12112758321277166, 0.11702413790495064, 0.11735528624824437],\n",
    "                           index=['normal', 'online_adaptation', 'meta', 'online_adaptation_reset'])\n"
   ],
   "metadata": {
    "collapsed": false,
    "pycharm": {
     "name": "#%%\n"
    }
   }
  },
  {
   "cell_type": "markdown",
   "source": [
    "plot comparing model b keeping weights vs weight reset"
   ],
   "metadata": {
    "collapsed": false,
    "pycharm": {
     "name": "#%% md\n"
    }
   }
  },
  {
   "cell_type": "code",
   "execution_count": 17,
   "outputs": [
    {
     "name": "stderr",
     "output_type": "stream",
     "text": [
      "/home/tobias/anaconda3/envs/Praktikum/lib/python3.7/site-packages/IPython/core/interactiveshell.py:2867: PerformanceWarning: indexing past lexsort depth may impact performance.\n",
      "  raw_cell, store_history, silent, shell_futures)\n"
     ]
    },
    {
     "data": {
      "text/plain": "<Figure size 432x288 with 1 Axes>",
      "image/png": "[encoded data removed]"
     },
     "metadata": {
      "needs_background": "light"
     },
     "output_type": "display_data"
    },
    {
     "data": {
      "text/plain": "<Figure size 432x288 with 1 Axes>",
      "image/png": "[encoded data removed]"
     },
     "metadata": {
      "needs_background": "light"
     },
     "output_type": "display_data"
    }
   ],
   "source": [
    "model_b_keep_weights = all_rewards['position_and_velocity_deltas', 'non_crippled', 'online_adaptation']\n",
    "data = pd.concat([model_b_keep_weights, model_b_reset_weights], axis=1)\n",
    "data.columns = ['Keep Weights', 'Reset Weights']\n",
    "training_rewards = data.loc[training_names]\n",
    "training_rewards.plot(kind='bar', rot=0)\n",
    "plt.savefig(\"../results/CompareModelBTraining.png\")\n",
    "\n",
    "evaluation_rewards = data.loc[evaluation_names]\n",
    "evaluation_rewards.plot(kind='bar', rot=0)\n",
    "plt.savefig(\"../results/CompareModelBTest.png\")\n"
   ],
   "metadata": {
    "collapsed": false,
    "pycharm": {
     "name": "#%%\n"
    }
   }
  },
  {
   "cell_type": "markdown",
   "source": [
    "Plots comparing the rewards achieved on different states"
   ],
   "metadata": {
    "collapsed": false,
    "pycharm": {
     "name": "#%% md\n"
    }
   }
  },
  {
   "cell_type": "code",
   "execution_count": null,
   "outputs": [],
   "source": [
    "rewards = all_rewards[:, :, :, 'training_0']\n",
    "rewards = rewards.groupby(level=[0]).mean()\n",
    "\n",
    "multi_index = pd.MultiIndex.from_product([['next state', 'state delta'], ['position only', 'positions and velocity']],\n",
    "                                             names=[\"prediction goal\", \"states\"])\n",
    "test = [rewards['position'], rewards['position_and_velocity'],\n",
    "        rewards['position_deltas'], rewards['position_and_velocity_deltas']]\n",
    "data = pd.Series(test, index=multi_index)\n",
    "\n",
    "data.unstack().plot(kind='bar', rot=0)\n",
    "plt.savefig(\"../results/CompareStateDefinitions.png\")"
   ],
   "metadata": {
    "collapsed": false,
    "pycharm": {
     "name": "#%%\n"
    }
   }
  },
  {
   "cell_type": "markdown",
   "source": [
    "Plots comparing the performance of Model A, B and C"
   ],
   "metadata": {
    "collapsed": false,
    "pycharm": {
     "name": "#%% md\n"
    }
   }
  },
  {
   "cell_type": "code",
   "execution_count": 125,
   "outputs": [
    {
     "data": {
      "text/plain": "<Figure size 432x288 with 1 Axes>",
      "image/png": "[encoded data removed]"
     },
     "metadata": {
      "needs_background": "light"
     },
     "output_type": "display_data"
    }
   ],
   "source": [
    "data = all_rewards['position_and_velocity_deltas', 'non_crippled']\n",
    "data.index = data.index.set_levels(['Model C', 'Model A', 'Model B'], level=0)\n",
    "data.index = data.index.set_names(['', 'environment'])\n",
    "data = data.sort_index()\n",
    "\n",
    "training_rewards = data.loc[:, training_names]\n",
    "training_rewards = training_rewards.swaplevel(i=0, j=1, )\n",
    "\n",
    "training_rewards.unstack().plot(kind='bar', rot=0)\n",
    "plt.savefig(\"../results/CompareModelsTrainingNonCrippled.png\")"
   ],
   "metadata": {
    "collapsed": false,
    "pycharm": {
     "name": "#%%\n"
    }
   }
  },
  {
   "cell_type": "code",
   "execution_count": 126,
   "outputs": [
    {
     "data": {
      "text/plain": "<Figure size 432x288 with 1 Axes>",
      "image/png": "[encoded data removed]"
     },
     "metadata": {
      "needs_background": "light"
     },
     "output_type": "display_data"
    }
   ],
   "source": [
    "evaluation_rewards = data.loc[:, evaluation_names]\n",
    "evaluation_rewards = evaluation_rewards.swaplevel(i=0, j=1, )\n",
    "\n",
    "evaluation_rewards.unstack().plot(kind='bar', rot=0)\n",
    "plt.savefig(\"../results/CompareModelsTestNonCrippled.png\")"
   ],
   "metadata": {
    "collapsed": false,
    "pycharm": {
     "name": "#%%\n"
    }
   }
  },
  {
   "cell_type": "markdown",
   "source": [
    "Plots comparing the performance of all Models trained on non-crippled only vs multiple_envs"
   ],
   "metadata": {
    "collapsed": false
   }
  },
  {
   "cell_type": "code",
   "execution_count": 127,
   "outputs": [
    {
     "data": {
      "text/plain": "<Figure size 432x288 with 1 Axes>",
      "image/png": "[encoded data removed]"
     },
     "metadata": {
      "needs_background": "light"
     },
     "output_type": "display_data"
    }
   ],
   "source": [
    "data = all_rewards['position_and_velocity_deltas']\n",
    "data.index = data.index.set_levels(['multiple dynamics', 'non crippled'], level=0)\n",
    "data.index = data.index.set_levels(['Model C', 'Model A', 'Model B'], level=1)\n",
    "data.index = data.index.set_names(['trained with','', 'environment'])\n",
    "data = data.sort_index()\n",
    "\n",
    "training_rewards = data.loc[:,:, training_names]\n",
    "\n",
    "training_rewards = training_rewards.swaplevel(i=0, j=1, )\n",
    "training_rewards = training_rewards.groupby(level=[0, 1]).mean()\n",
    "training_rewards.unstack().plot(kind='bar', rot=0)\n",
    "plt.savefig(\"../results/CompareModelsTrainingOptionsTraining.png\")"
   ],
   "metadata": {
    "collapsed": false,
    "pycharm": {
     "name": "#%%\n"
    }
   }
  },
  {
   "cell_type": "code",
   "execution_count": 128,
   "outputs": [
    {
     "data": {
      "text/plain": "<Figure size 432x288 with 1 Axes>",
      "image/png": "[encoded data removed]"
     },
     "metadata": {
      "needs_background": "light"
     },
     "output_type": "display_data"
    }
   ],
   "source": [
    "evaluation_rewards = data.loc[:,:, evaluation_names]\n",
    "\n",
    "evaluation_rewards = evaluation_rewards.swaplevel(i=0, j=1, )\n",
    "evaluation_rewards = evaluation_rewards.groupby(level=[0, 1]).mean()\n",
    "evaluation_rewards.unstack().plot(kind='bar', rot=0)\n",
    "plt.savefig(\"../results/CompareModelsTrainingOptionsTest.png\")\n"
   ],
   "metadata": {
    "collapsed": false,
    "pycharm": {
     "name": "#%%\n"
    }
   }
  },
  {
   "cell_type": "markdown",
   "source": [
    "Plots comparing the performance of a Model trained on non-crippled only vs multiple_envs"
   ],
   "metadata": {
    "collapsed": false,
    "pycharm": {
     "name": "#%% md\n"
    }
   }
  },
  {
   "cell_type": "code",
   "execution_count": null,
   "outputs": [],
   "source": [
    "model_name = 'meta'\n",
    "model_name_new = \"Model C\"\n",
    "\n",
    "data = all_rewards['position_and_velocity_deltas', :, model_name]\n",
    "print(data)"
   ],
   "metadata": {
    "collapsed": false,
    "pycharm": {
     "name": "#%%\n"
    }
   }
  },
  {
   "cell_type": "code",
   "execution_count": null,
   "outputs": [],
   "source": [
    "data = all_rewards['position_and_velocity_deltas', :, :, 'training_0']\n"
   ],
   "metadata": {
    "collapsed": false,
    "pycharm": {
     "name": "#%%\n"
    }
   }
  },
  {
   "cell_type": "markdown",
   "source": [
    "This plot shows"
   ],
   "metadata": {
    "collapsed": false,
    "pycharm": {
     "name": "#%% md\n"
    }
   }
  },
  {
   "cell_type": "code",
   "execution_count": null,
   "outputs": [],
   "source": [
    "all_rewards['position_and_velocity_deltas', :, :, 'training_0'].plot(kind='bar')"
   ],
   "metadata": {
    "collapsed": false,
    "pycharm": {
     "name": "#%%\n"
    }
   }
  },
  {
   "cell_type": "code",
   "execution_count": null,
   "outputs": [],
   "source": [
    "all_rewards['position', 'multiple_envs', 'normal', 'alle_training_envs'].plot(kind='bar')\n",
    "all_rewards['position', 'non_crippled', 'normal', 'alle_training_envs'].plot(kind='bar')\n"
   ],
   "metadata": {
    "collapsed": false,
    "pycharm": {
     "name": "#%%\n"
    }
   }
  }
 ],
 "metadata": {
  "kernelspec": {
   "display_name": "Python 3",
   "language": "python",
   "name": "python3"
  },
  "language_info": {
   "codemirror_mode": {
    "name": "ipython",
    "version": 2
   },
   "file_extension": ".py",
   "mimetype": "text/x-python",
   "name": "python",
   "nbconvert_exporter": "python",
   "pygments_lexer": "ipython2",
   "version": "2.7.6"
  }
 },
 "nbformat": 4,
 "nbformat_minor": 0
}