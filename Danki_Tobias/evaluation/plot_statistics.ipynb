{
 "cells": [
  {
   "cell_type": "code",
   "execution_count": 1,
   "metadata": {
    "collapsed": true
   },
   "outputs": [],
   "source": [
    "import numpy as np\n",
    "import pandas as pd\n",
    "import matplotlib.pyplot as plt\n",
    "from Danki_Tobias.helper.environment_definitions import cripple_options_evaluation, cripple_options_training"
   ]
  },
  {
   "cell_type": "code",
   "execution_count": 3,
   "outputs": [],
   "source": [
    "data_type_options = ['position', 'position_deltas', 'position_and_velocity', 'position_and_velocity_deltas']\n",
    "train_on_options = ['non_crippled', 'multiple_envs']\n",
    "algorithms = ['normal', 'meta', 'online_adaptation']\n",
    "names = ['training_0', 'training_1', 'training_2', 'training_3', 'training_4', 'training_5',\n",
    "         'eval_0', 'eval_1', 'eval_2', 'eval_3', 'eval_4', 'eval_5']\n",
    "\n",
    "def read_average_reward(data_type, train_on, algorithm, name):\n",
    "    file_name = f'../data/{data_type}/on_policy/trained_on_{train_on}/{algorithm}/evaluation_{name}.txt'\n",
    "    with open(file_name, \"r\") as file:\n",
    "        file.readline()\n",
    "        file.readline()\n",
    "        text = file.readline()\n",
    "    _, average_reward = text.split(\"=\")\n",
    "    return float(average_reward)\n",
    "\n",
    "\n",
    "def read_all_rewards():\n",
    "    multi_index = pd.MultiIndex.from_product([data_type_options, train_on_options, algorithms, names],\n",
    "                                             names=[\"data_type\", \"train_on\", \"algorithm\", \"name\"])\n",
    "    rewards = []\n",
    "    for data_type in data_type_options:\n",
    "        for train_on in train_on_options:\n",
    "            for algorithm in algorithms:\n",
    "                for name in names:\n",
    "                    rewards.append(read_average_reward(data_type, train_on, algorithm, name))\n",
    "\n",
    "    all_rewards = pd.Series(rewards, index=multi_index)\n",
    "    return all_rewards\n",
    "\n",
    "all_rewards = read_all_rewards()"
   ],
   "metadata": {
    "collapsed": false,
    "pycharm": {
     "name": "#%%\n"
    }
   }
  },
  {
   "cell_type": "markdown",
   "source": [
    "This plot shows"
   ],
   "metadata": {
    "collapsed": false,
    "pycharm": {
     "name": "#%% md\n"
    }
   }
  },
  {
   "cell_type": "code",
   "execution_count": 21,
   "outputs": [
    {
     "data": {
      "text/plain": "<AxesSubplot:xlabel='name'>"
     },
     "execution_count": 21,
     "metadata": {},
     "output_type": "execute_result"
    },
    {
     "data": {
      "text/plain": "<Figure size 432x288 with 1 Axes>",
      "image/png": "[encoded data removed]"
     },
     "metadata": {
      "needs_background": "light"
     },
     "output_type": "display_data"
    }
   ],
   "source": [
    "all_rewards['position_and_velocity_deltas', 'multiple_envs', 'normal', :].plot(kind='bar')"
   ],
   "metadata": {
    "collapsed": false,
    "pycharm": {
     "name": "#%%\n"
    }
   }
  },
  {
   "cell_type": "code",
   "execution_count": 22,
   "outputs": [
    {
     "data": {
      "text/plain": "<AxesSubplot:xlabel='name'>"
     },
     "execution_count": 22,
     "metadata": {},
     "output_type": "execute_result"
    },
    {
     "data": {
      "text/plain": "<Figure size 432x288 with 1 Axes>",
      "image/png": "[encoded data removed]"
     },
     "metadata": {
      "needs_background": "light"
     },
     "output_type": "display_data"
    }
   ],
   "source": [
    "all_rewards['position', 'multiple_envs', 'normal', 'alle_training_envs'].plot(kind='bar')\n",
    "all_rewards['position', 'non_crippled', 'normal', 'alle_training_envs'].plot(kind='bar')\n"
   ],
   "metadata": {
    "collapsed": false,
    "pycharm": {
     "name": "#%%\n"
    }
   }
  }
 ],
 "metadata": {
  "kernelspec": {
   "display_name": "Python 3",
   "language": "python",
   "name": "python3"
  },
  "language_info": {
   "codemirror_mode": {
    "name": "ipython",
    "version": 2
   },
   "file_extension": ".py",
   "mimetype": "text/x-python",
   "name": "python",
   "nbconvert_exporter": "python",
   "pygments_lexer": "ipython2",
   "version": "2.7.6"
  }
 },
 "nbformat": 4,
 "nbformat_minor": 0
}