{
 "cells": [
  {
   "cell_type": "code",
   "execution_count": 1,
   "metadata": {
    "collapsed": true
   },
   "outputs": [
    {
     "name": "stdout",
     "output_type": "stream",
     "text": [
      "data_type                     train_on       algorithm          name      \n",
      "position                      non_crippled   normal             training_0    -6.074406\n",
      "                                                                training_1    -5.692458\n",
      "                                                                training_2    -7.090457\n",
      "                                                                training_3    -6.377938\n",
      "                                                                training_4    -7.385442\n",
      "                                                                                ...    \n",
      "position_and_velocity_deltas  multiple_envs  online_adaptation  eval_1        -3.319356\n",
      "                                                                eval_2       -38.469876\n",
      "                                                                eval_3        -3.562862\n",
      "                                                                eval_4        -6.526452\n",
      "                                                                eval_5       -16.546812\n",
      "Length: 288, dtype: float64\n"
     ]
    }
   ],
   "source": [
    "import numpy as np\n",
    "import pandas as pd\n",
    "import matplotlib.pyplot as plt\n",
    "from Danki_Tobias.evaluation import plot_statistics as ps\n",
    "from Danki_Tobias.helper.environment_definitions import cripple_options_evaluation, cripple_options_training"
   ]
  },
  {
   "cell_type": "code",
   "execution_count": 24,
   "outputs": [],
   "source": [
    "data_type_options = ['position', 'position_deltas', 'position_and_velocity', 'position_and_velocity_deltas']\n",
    "train_on_options = ['non_crippled', 'multiple_envs']\n",
    "algorithms = ['normal', 'meta', 'online_adaptation']\n",
    "names = ['training_0', 'training_1', 'training_2', 'training_3', 'training_4', 'training_5',\n",
    "         'eval_0', 'eval_1', 'eval_2', 'eval_3', 'eval_4', 'eval_5']\n",
    "test_names = names[6:]\n",
    "train_names = names[:6]\n",
    "\n",
    "def read_average_reward(data_type, train_on, algorithm, name):\n",
    "    file_name = f'../data/{data_type}/on_policy/trained_on_{train_on}/{algorithm}/evaluation_{name}.txt'\n",
    "    with open(file_name, \"r\") as file:\n",
    "        file.readline()\n",
    "        file.readline()\n",
    "        text = file.readline()\n",
    "    _, average_reward = text.split(\"=\")\n",
    "    return float(average_reward)\n",
    "\n",
    "\n",
    "def read_all_rewards():\n",
    "    multi_index = pd.MultiIndex.from_product([data_type_options, train_on_options, algorithms, names],\n",
    "                                             names=[\"data_type\", \"train_on\", \"algorithm\", \"name\"])\n",
    "    rewards = []\n",
    "    for data_type in data_type_options:\n",
    "        for train_on in train_on_options:\n",
    "            for algorithm in algorithms:\n",
    "                for name in names:\n",
    "                    rewards.append(read_average_reward(data_type, train_on, algorithm, name))\n",
    "\n",
    "    all_rewards = pd.Series(rewards, index=multi_index)\n",
    "    return all_rewards\n",
    "\n",
    "def read_test_rewards():\n",
    "    multi_index = pd.MultiIndex.from_product([data_type_options, train_on_options, algorithms, test_names],\n",
    "                                             names=[\"data_type\", \"train_on\", \"algorithm\", \"name\"])\n",
    "    rewards = []\n",
    "    for data_type in data_type_options:\n",
    "        for train_on in train_on_options:\n",
    "            for algorithm in algorithms:\n",
    "                for name in test_names:\n",
    "                    rewards.append(read_average_reward(data_type, train_on, algorithm, name))\n",
    "\n",
    "    test_rewards = pd.Series(rewards, index=multi_index)\n",
    "    return test_rewards\n",
    "\n",
    "def read_train_rewards():\n",
    "    multi_index = pd.MultiIndex.from_product([data_type_options, train_on_options, algorithms, train_names],\n",
    "                                             names=[\"data_type\", \"train_on\", \"algorithm\", \"name\"])\n",
    "    rewards = []\n",
    "    for data_type in data_type_options:\n",
    "        for train_on in train_on_options:\n",
    "            for algorithm in algorithms:\n",
    "                for name in train_names:\n",
    "                    rewards.append(read_average_reward(data_type, train_on, algorithm, name))\n",
    "\n",
    "    train_rewards = pd.Series(rewards, index=multi_index)\n",
    "    return train_rewards\n",
    "\n",
    "all_rewards = read_all_rewards()\n",
    "test_rewards = read_test_rewards()\n",
    "train_rewards = read_train_rewards()"
   ],
   "metadata": {
    "collapsed": false,
    "pycharm": {
     "name": "#%%\n"
    }
   }
  },
  {
   "cell_type": "markdown",
   "source": [
    "Danki\n",
    "-------------------------------------------------------------------------"
   ],
   "metadata": {
    "collapsed": false,
    "pycharm": {
     "name": "#%% md\n"
    }
   }
  },
  {
   "cell_type": "code",
   "execution_count": 4,
   "outputs": [],
   "source": [
    "# Load data\n",
    "reward_normal = train_rewards['position_and_velocity_deltas', 'multiple_envs', 'normal', :]\n",
    "reward_meta = train_rewards['position_and_velocity_deltas', 'multiple_envs', 'meta', :]\n",
    "reward_online_adaptation = train_rewards['position_and_velocity_deltas', 'multiple_envs', 'online_adaptation', :]"
   ],
   "metadata": {
    "collapsed": false,
    "pycharm": {
     "name": "#%%\n"
    }
   }
  },
  {
   "cell_type": "code",
   "execution_count": 5,
   "outputs": [],
   "source": [
    "reward_normal_test = test_rewards['position_and_velocity_deltas', 'non_crippled', 'normal', :]\n",
    "reward_meta_test = test_rewards['position_and_velocity_deltas', 'non_crippled', 'meta', :]\n",
    "reward_online_adaptation_test = test_rewards['position_and_velocity_deltas', 'non_crippled', 'online_adaptation', :]\n"
   ],
   "metadata": {
    "collapsed": false,
    "pycharm": {
     "name": "#%%\n"
    }
   }
  },
  {
   "cell_type": "markdown",
   "source": [
    "Models of three algorithms trained on non-crippled data.\n",
    "Test of models of training time on non-crippled and crippled robots."
   ],
   "metadata": {
    "collapsed": false
   }
  },
  {
   "cell_type": "markdown",
   "source": [
    "Side node:\n",
    "normal==Model A==seagreen\n",
    "adaptation==Model B==tomato\n",
    "meta==Model C==royalblue"
   ],
   "metadata": {
    "collapsed": false,
    "pycharm": {
     "name": "#%% md\n"
    }
   }
  },
  {
   "cell_type": "code",
   "execution_count": 28,
   "outputs": [
    {
     "data": {
      "text/plain": "<Figure size 432x288 with 1 Axes>",
      "image/png": "[encoded data removed]"
     },
     "metadata": {
      "needs_background": "light"
     },
     "output_type": "display_data"
    }
   ],
   "source": [
    "# draw parallel reward plot\n",
    "bar_width = 0.3\n",
    "index_normal = np.arange(len(train_names))\n",
    "index_online_adaptation = index_normal + bar_width\n",
    "index_meta = index_online_adaptation + bar_width\n",
    "\n",
    "plt.bar(index_normal, height=reward_normal, width=bar_width, color='seagreen', label='Model A')\n",
    "plt.bar(index_online_adaptation, height=reward_online_adaptation, width=bar_width, color='tomato', label='Model B')\n",
    "plt.bar(index_meta, height=reward_meta, width=bar_width, color='royalblue', label='Model C')\n",
    "\n",
    "plt.legend()\n",
    "plt.xticks(index_normal + bar_width, train_names)\n",
    "plt.xlabel('environment')\n",
    "plt.ylabel('reward')\n",
    "\n",
    "plt.savefig(\"../results/Danki/NonCrippledComparisonTrainingN\", bbox_inches='tight')\n",
    "plt.show()"
   ],
   "metadata": {
    "collapsed": false,
    "pycharm": {
     "name": "#%%\n"
    }
   }
  },
  {
   "cell_type": "markdown",
   "source": [
    "Models of three algorithms trained on non-crippled data.\n",
    "Tests of models of training time on non-crippled and crippled robots."
   ],
   "metadata": {
    "collapsed": false
   }
  },
  {
   "cell_type": "code",
   "execution_count": 29,
   "outputs": [
    {
     "data": {
      "text/plain": "<Figure size 432x288 with 1 Axes>",
      "image/png": "[encoded data removed]"
     },
     "metadata": {
      "needs_background": "light"
     },
     "output_type": "display_data"
    }
   ],
   "source": [
    "bar_width = 0.3\n",
    "\n",
    "index_normal = np.arange(len(test_names))\n",
    "index_online_adaptation = index_normal + bar_width\n",
    "index_meta = index_online_adaptation + bar_width\n",
    "\n",
    "plt.bar(index_normal, height=reward_normal_test, width=bar_width, color='seagreen', label='Model A')\n",
    "plt.bar(index_online_adaptation, height=reward_online_adaptation_test, width=bar_width, color='tomato', label='Model B')\n",
    "plt.bar(index_meta, height=reward_meta_test, width=bar_width, color='royalblue', label='Model C')\n",
    "\n",
    "plt.legend()\n",
    "plt.xticks(index_normal + bar_width, test_names)\n",
    "plt.ylabel('reward')\n",
    "plt.xlabel('environment')\n",
    "\n",
    "plt.savefig(\"../results/Danki/NonCrippledComparisonTestingN\", bbox_inches='tight')\n",
    "plt.show()"
   ],
   "metadata": {
    "collapsed": false,
    "pycharm": {
     "name": "#%%\n"
    }
   }
  },
  {
   "cell_type": "markdown",
   "source": [
    "Models trained on non-crippled data and multi-environment -> same algorithm different model performance comparison"
   ],
   "metadata": {
    "collapsed": false,
    "pycharm": {
     "name": "#%% md\n"
    }
   }
  },
  {
   "cell_type": "markdown",
   "source": [
    "1. normal algorithm"
   ],
   "metadata": {
    "collapsed": false,
    "pycharm": {
     "name": "#%% md\n"
    }
   }
  },
  {
   "cell_type": "code",
   "execution_count": 42,
   "outputs": [],
   "source": [
    "# Load data\n",
    "\n",
    "# normal\n",
    "normal1 = train_rewards['position_and_velocity_deltas', 'non_crippled', 'normal', :]\n",
    "normal2 = train_rewards['position_and_velocity_deltas', 'multiple_envs', 'normal', :]\n",
    "\n",
    "# meta\n",
    "meta1 = train_rewards['position_and_velocity_deltas', 'non_crippled', 'meta', :]\n",
    "meta2 = train_rewards['position_and_velocity_deltas', 'multiple_envs', 'meta', :]\n",
    "\n",
    "# adaptation\n",
    "adaptation1 = train_rewards['position_and_velocity_deltas', 'non_crippled', 'online_adaptation', :]\n",
    "adaptation2 = train_rewards['position_and_velocity_deltas', 'multiple_envs', 'online_adaptation', :]"
   ],
   "metadata": {
    "collapsed": false,
    "pycharm": {
     "name": "#%%\n"
    }
   }
  },
  {
   "cell_type": "code",
   "execution_count": 46,
   "outputs": [
    {
     "data": {
      "text/plain": "<Figure size 432x288 with 1 Axes>",
      "image/png": "[encoded data removed]"
     },
     "metadata": {
      "needs_background": "light"
     },
     "output_type": "display_data"
    }
   ],
   "source": [
    "bar_width = 0.3\n",
    "index_normal1 = np.arange(len(train_names))\n",
    "index_normal2 = index_normal + bar_width\n",
    "\n",
    "plt.bar(index_normal1, height=normal1, width=bar_width, color='seagreen', label='non-crippled')\n",
    "plt.bar(index_normal2, height=normal2, width=bar_width, color='darkseagreen', label='multiple dynamics')\n",
    "\n",
    "plt.legend()\n",
    "plt.xticks(index_normal + 0.5 * bar_width, train_names)\n",
    "plt.ylabel('reward')\n",
    "plt.xlabel('environment')\n",
    "\n",
    "plt.savefig(\"../results/Danki/NormalNonAndMultinTrainingN\", bbox_inches='tight')\n",
    "plt.show()"
   ],
   "metadata": {
    "collapsed": false,
    "pycharm": {
     "name": "#%%\n"
    }
   }
  },
  {
   "cell_type": "code",
   "execution_count": 47,
   "outputs": [
    {
     "data": {
      "text/plain": "<Figure size 432x288 with 1 Axes>",
      "image/png": "[encoded data removed]"
     },
     "metadata": {
      "needs_background": "light"
     },
     "output_type": "display_data"
    }
   ],
   "source": [
    "# meta == Model C\n",
    "bar_width = 0.3\n",
    "index_normal1 = np.arange(len(train_names))\n",
    "index_normal2 = index_normal + bar_width\n",
    "\n",
    "plt.bar(index_normal1, height=meta1, width=bar_width, color='tomato', label='non-crippled')\n",
    "plt.bar(index_normal2, height=meta2, width=bar_width, color='lightsalmon', label='multiple dynamics')\n",
    "\n",
    "plt.legend()\n",
    "plt.xticks(index_normal + 0.5 * bar_width, train_names)\n",
    "plt.ylabel('reward')\n",
    "plt.xlabel('environment')\n",
    "\n",
    "plt.savefig(\"../results/Danki/MetaNonAndMultinTrainingN\", bbox_inches='tight')\n",
    "plt.show()"
   ],
   "metadata": {
    "collapsed": false,
    "pycharm": {
     "name": "#%%\n"
    }
   }
  },
  {
   "cell_type": "code",
   "execution_count": 48,
   "outputs": [
    {
     "data": {
      "text/plain": "<Figure size 432x288 with 1 Axes>",
      "image/png": "[encoded data removed]"
     },
     "metadata": {
      "needs_background": "light"
     },
     "output_type": "display_data"
    }
   ],
   "source": [
    "# adaptation == Model B\n",
    "bar_width = 0.3\n",
    "index_normal1 = np.arange(len(train_names))\n",
    "index_normal2 = index_normal + bar_width\n",
    "\n",
    "plt.bar(index_normal1, height=adaptation1, width=bar_width, color='royalblue', label='non-crippled')\n",
    "plt.bar(index_normal2, height=adaptation2, width=bar_width, color='lightsteelblue', label='multiple dynamics')\n",
    "\n",
    "plt.legend()\n",
    "plt.xticks(index_normal + 0.5 * bar_width, train_names)\n",
    "plt.ylabel('reward')\n",
    "plt.xlabel('environment')\n",
    "\n",
    "plt.savefig(\"../results/Danki/adaptNonAndMultinTrainingN\", bbox_inches='tight')\n",
    "plt.show()"
   ],
   "metadata": {
    "collapsed": false,
    "pycharm": {
     "name": "#%%\n"
    }
   }
  }
 ],
 "metadata": {
  "kernelspec": {
   "display_name": "Python 3",
   "language": "python",
   "name": "python3"
  },
  "language_info": {
   "codemirror_mode": {
    "name": "ipython",
    "version": 2
   },
   "file_extension": ".py",
   "mimetype": "text/x-python",
   "name": "python",
   "nbconvert_exporter": "python",
   "pygments_lexer": "ipython2",
   "version": "2.7.6"
  }
 },
 "nbformat": 4,
 "nbformat_minor": 0
}