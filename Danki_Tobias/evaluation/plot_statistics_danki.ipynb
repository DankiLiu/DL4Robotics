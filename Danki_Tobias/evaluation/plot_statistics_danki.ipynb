{
 "cells": [
  {
   "cell_type": "code",
<<<<<<< HEAD:Danki_Tobias/evaluation/plot_statistics.ipynb
   "execution_count": null,
=======
   "execution_count": 90,
>>>>>>> fb5ede217d0119c8321844a644db0df89cf8e1a0:Danki_Tobias/evaluation/plot_statistics_danki.ipynb
   "metadata": {
    "collapsed": true
   },
   "outputs": [],
   "source": [
    "import numpy as np\n",
    "import pandas as pd\n",
    "import matplotlib.pyplot as plt\n",
    "from Danki_Tobias.evaluation import plot_statistics as ps\n",
    "from Danki_Tobias.helper.environment_definitions import cripple_options_evaluation, cripple_options_training"
   ]
  },
  {
   "cell_type": "code",
<<<<<<< HEAD:Danki_Tobias/evaluation/plot_statistics.ipynb
   "execution_count": null,
=======
<<<<<<< HEAD
   "execution_count": 91,
=======
   "execution_count": 32,
>>>>>>> 13b0c71b23c3e24d229b9ac74304cf2f57a3be90
>>>>>>> fb5ede217d0119c8321844a644db0df89cf8e1a0:Danki_Tobias/evaluation/plot_statistics_danki.ipynb
   "outputs": [],
   "source": [
    "data_type_options = ['position', 'position_deltas', 'position_and_velocity', 'position_and_velocity_deltas']\n",
    "train_on_options = ['non_crippled', 'multiple_envs']\n",
    "algorithms = ['normal', 'online_adaptation', 'meta']\n",
    "names = ['training_0', 'training_1', 'training_2', 'training_3', 'training_4', 'training_5',\n",
    "         'eval_0', 'eval_1', 'eval_2', 'eval_3', 'eval_4', 'eval_5']\n",
    "test_names = names[6:]\n",
    "train_names = names[:6]\n",
    "\n",
    "training_names = ['training_0', 'training_1', 'training_2', 'training_3', 'training_4', 'training_5']\n",
    "evaluation_names = ['eval_0', 'eval_1', 'eval_2', 'eval_3', 'eval_4', 'eval_5']\n",
    "\n",
    "def read_average_reward(data_type, train_on, algorithm, name):\n",
    "    file_name = f'../data/{data_type}/on_policy/trained_on_{train_on}/{algorithm}/evaluation_{name}.txt'\n",
    "    with open(file_name, \"r\") as file:\n",
    "        file.readline()\n",
    "        file.readline()\n",
    "        text = file.readline()\n",
    "    _, average_reward = text.split(\"=\")\n",
    "    return float(average_reward)\n",
    "\n",
    "\n",
    "def read_all_rewards():\n",
    "    multi_index = pd.MultiIndex.from_product([data_type_options, train_on_options, algorithms, names],\n",
    "                                             names=[\"data_type\", \"train_on\", \"algorithm\", \"name\"])\n",
    "    rewards = []\n",
    "    for data_type in data_type_options:\n",
    "        for train_on in train_on_options:\n",
    "            for algorithm in algorithms:\n",
    "                for name in names:\n",
    "                    rewards.append(read_average_reward(data_type, train_on, algorithm, name))\n",
    "\n",
    "    all_rewards = pd.Series(rewards, index=multi_index)\n",
    "    return all_rewards\n",
    "\n",
    "def read_test_rewards():\n",
    "    multi_index = pd.MultiIndex.from_product([data_type_options, train_on_options, algorithms, test_names],\n",
    "                                             names=[\"data_type\", \"train_on\", \"algorithm\", \"name\"])\n",
    "    rewards = []\n",
    "    for data_type in data_type_options:\n",
    "        for train_on in train_on_options:\n",
    "            for algorithm in algorithms:\n",
    "                for name in test_names:\n",
    "                    rewards.append(read_average_reward(data_type, train_on, algorithm, name))\n",
    "\n",
    "    test_rewards = pd.Series(rewards, index=multi_index)\n",
    "    return test_rewards\n",
    "\n",
    "def read_train_rewards():\n",
    "    multi_index = pd.MultiIndex.from_product([data_type_options, train_on_options, algorithms, train_names],\n",
    "                                             names=[\"data_type\", \"train_on\", \"algorithm\", \"name\"])\n",
    "    rewards = []\n",
    "    for data_type in data_type_options:\n",
    "        for train_on in train_on_options:\n",
    "            for algorithm in algorithms:\n",
    "                for name in test_names:\n",
    "                    rewards.append(read_average_reward(data_type, train_on, algorithm, name))\n",
    "\n",
    "    train_rewards = pd.Series(rewards, index=multi_index)\n",
    "    return train_rewards\n",
    "\n",
    "all_rewards = read_all_rewards()\n",
    "test_rewards = read_test_rewards()\n",
    "train_rewards = read_train_rewards()"
   ],
   "metadata": {
    "collapsed": false,
    "pycharm": {
     "name": "#%%\n"
    }
   }
  },
  {
   "cell_type": "markdown",
   "source": [
    "Plots comparing the rewards achieved on different states"
   ],
   "metadata": {
    "collapsed": false,
    "pycharm": {
     "name": "#%% md\n"
    }
   }
  },
  {
   "cell_type": "code",
   "execution_count": null,
   "outputs": [],
   "source": [
    "rewards = all_rewards[:, :, :, 'training_0']\n",
    "rewards = rewards.groupby(level=[0]).mean()\n",
    "\n",
    "multi_index = pd.MultiIndex.from_product([['next state', 'state delta'], ['position only', 'positions and velocity']],\n",
    "                                             names=[\"prediction goal\", \"states\"])\n",
    "test = [rewards['position'], rewards['position_and_velocity'],\n",
    "        rewards['position_deltas'], rewards['position_and_velocity_deltas']]\n",
    "data = pd.Series(test, index=multi_index)\n",
    "\n",
    "data.unstack().plot(kind='bar', rot=0)\n",
    "plt.savefig(\"../results/CompareStateDefinitions.png\")"
   ],
   "metadata": {
    "collapsed": false,
    "pycharm": {
     "name": "#%%\n"
    }
   }
  },
  {
   "cell_type": "markdown",
   "source": [
    "Plots comparing the performance of Model A, B and C"
   ],
   "metadata": {
    "collapsed": false,
    "pycharm": {
     "name": "#%% md\n"
    }
   }
  },
  {
   "cell_type": "code",
   "execution_count": 125,
   "outputs": [
    {
     "data": {
      "text/plain": "<Figure size 432x288 with 1 Axes>",
      "image/png": "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\n"
     },
     "metadata": {
      "needs_background": "light"
     },
     "output_type": "display_data"
    }
   ],
   "source": [
    "data = all_rewards['position_and_velocity_deltas', 'non_crippled']\n",
    "data.index = data.index.set_levels(['Model C', 'Model A', 'Model B'], level=0)\n",
    "data.index = data.index.set_names(['', 'environment'])\n",
    "data = data.sort_index()\n",
    "\n",
    "training_rewards = data.loc[:, training_names]\n",
    "training_rewards = training_rewards.swaplevel(i=0, j=1, )\n",
    "\n",
    "training_rewards.unstack().plot(kind='bar', rot=0)\n",
    "plt.savefig(\"../results/CompareModelsTrainingNonCrippled.png\")"
   ],
   "metadata": {
    "collapsed": false,
    "pycharm": {
     "name": "#%%\n"
    }
   }
  },
  {
   "cell_type": "code",
   "execution_count": 126,
   "outputs": [
    {
     "data": {
      "text/plain": "<Figure size 432x288 with 1 Axes>",
      "image/png": "iVBORw0KGgoAAAANSUhEUgAAAXkAAAELCAYAAAA86fb3AAAAOXRFWHRTb2Z0d2FyZQBNYXRwbG90bGliIHZlcnNpb24zLjMuMiwgaHR0cHM6Ly9tYXRwbG90bGliLm9yZy8vihELAAAACXBIWXMAAAsTAAALEwEAmpwYAAAZQElEQVR4nO3dfZRV1Z3m8e9jhYghpFHAl1goFSRRERqTEjXxpRSaJuiiQpuMMElrmnGIs3Slx9GVpaMJmoZEx5mV6R4TE8aVqEtSmkhQ40sUHImJhmhheEcjaKHFOE2lzIiOYgR+88c94BWqqFt17kuxeT5r3cU9+7zsvesWT52777n7KCIwM7M0HVTrBpiZWeU45M3MEuaQNzNLmEPezCxhDnkzs4Q55M3MElbxkJc0RdILkjZIurrS9ZmZ2ftUyevkJdUBfwT+BmgHngVmRsS6ilVqZma7VfpMfgKwISJeioi/AHcDzRWu08zMMh+q8PGPBl4tWm4HTi3eQNJsYDbAoEGDPnP88cf3upLVm98oabuxeqnHbdYe/OEetxkzdExJ9ZVLKf0rpW+Qdv9K6Ru4f+Xk/3sFte7f8uXL/xQRw7taV+mQ71FEzAfmAzQ2NkZra2uvjzHy6odK2q514L/tcZuxDcf0fJyLe9/GPErpXyl9g7T7V0rfwP0rJ//fK6h1/yRt6m5dpYdrNgMjipbrszIzM6uCSof8s8BoSQ2SPgzMAB6ocJ1mZpap6HBNRGyXdDnwKFAH/Dgi1layTjMze1/Fx+Qj4mHg4UrXY2Zme/M3Xs3MEuaQNzNLmEPezCxhDnkzs4Q55M3MEuaQNzNLmEPezCxhDnkzs4Q55M3MEuaQNzNLmEPezCxhNZ9P3nrWduN5PW90fcWbYX1Urtdv9cWrc7fFDjwO+VRcX9odbBwT/VSJr59Zb3m4xswsYQ55M7OEOeTNzBJWsZCXdL2kzZJWZI+plarLzMy6VukPXr8XEf+1wnWYmVk3PFxjZpawSof85ZJWSfqxpEO72kDSbEmtklo7Ojoq3BwzswNLrpCXtETSmi4ezcCtwChgPPAa8N+6OkZEzI+IxohoHD58eJ7mmJnZHnKNyUfEpFK2k/Q/gQfz1GVmZr1XyatrjipanA6sqVRdZmbWtUpeXfNfJI0HAmgDvlbBuszMrAsVC/mI+PtKHdvMzErjCcrMrPJKmYDtjrGVb8cByCFvZv2Cp1KuDH8ZyswsYT6TN7M+K+mGKFZTPpM3M0uYQ97MLGEOeTOzhDnkzcwS5pA3M0uYQ97MLGEOeTOzhDnkzcwS5pA3M0uYQ97MLGEOeTOzhDnkzcwSlvdG3l+StFbSTkmNe6y7RtIGSS9I+tt8zTQzs77IOwvlGuDvgB8VF0o6EZgBjAE+DiyR9MmI2JGzPjMz64VcZ/IRsT4iXuhiVTNwd0S8GxEvAxuACXnqMjOz3qvUmPzRwKtFy+1Z2V4kzZbUKqm1o6OjQs0xMzsw9ThcI2kJcGQXq66NiPvzNiAi5gPzARobGyPv8czM7H09hnxETOrDcTcDI4qW67MyMzOrokoN1zwAzJB0sKQGYDTwTIXqMjOzbuS9hHK6pHbgdOAhSY8CRMRa4GfAOuBXwGW+ssbMrPpyXUIZEYuARd2smwfMy3N8MzPLx994NTNLmEPezCxhDnkzs4Q55M3MEuaQNzNLmEPezCxhDnkzs4Q55M3MEuaQNzNLmEPezCxhDnkzs4Q55M3MEuaQNzNLmEPezCxhDnkzs4Q55M3MEpb3zlBfkrRW0k5JjUXlIyW9I2lF9vhh/qaamVlv5bozFLAG+DvgR12s2xgR43Me38zMcsh7+7/1AJLK0xozMyurSo7JN0j6g6RfSzqzu40kzZbUKqm1o6Ojgs0xMzvw9HgmL2kJcGQXq66NiPu72e014JiI6JT0GeA+SWMiYuueG0bEfGA+QGNjY5TedDMz60mPIR8Rk3p70Ih4F3g3e75c0kbgk0Brr1toZmZ9VpHhGknDJdVlzz8BjAZeqkRdZmbWvbyXUE6X1A6cDjwk6dFs1VnAKkkrgHuBSyPi9VwtNTOzXst7dc0iYFEX5QuBhXmObWa237j+jZ63uWNs5dvRBX/j1cwsYXm/DGVmZiVYffHqmtTrkDcz60bbjefVugm5ebjGzCxhDnkzs4Q55M3MEuaQNzNLmEPezCxhDnkzs4Q55M3MEuaQNzNLmEPezCxhDnkzs4Q55M3MEuaQNzNLmEPezCxhee8MdbOk5yWtkrRI0pCidddI2iDpBUl/m7ulZmbWa3nP5BcDJ0XEOOCPwDUAkk4EZgBjgCnAD3bd89XMzKonV8hHxGMRsT1bXAbUZ8+bgbsj4t2IeBnYAEzIU5eZmfVeOcfkZwGPZM+PBl4tWteele1F0mxJrZJaOzo6ytgcMzPr8c5QkpYAR3ax6tqIuD/b5lpgO7Cgtw2IiPnAfIDGxsbo7f5mZta9HkM+Iibta72krwLnAxMjYldIbwZGFG1Wn5WZmVkV5b26ZgrwDWBaRLxdtOoBYIakgyU1AKOBZ/LUZWZmvZf3Rt63AAcDiyUBLIuISyNiraSfAesoDONcFhE7ctZlZma9lCvkI+K4faybB8zLc3wzM8vH33g1M0uYQ97MLGEOeTOzhDnkzcwS5pA3M0uYQ97MLGEOeTOzhDnkzcwS5pA3M0uYQ97MLGEOeTOzhDnkzcwS5pA3M0uYQ97MLGEOeTOzhDnkzcwSlvf2fzdLel7SKkmLJA3JykdKekfSiuzxw7K01szMeiXvmfxi4KSIGAf8EbimaN3GiBifPS7NWY+ZmfVBrpCPiMciYnu2uAyoz98kMzMrl3KOyc8CHilabpD0B0m/lnRmdztJmi2pVVJrR0dHGZtjZmY93shb0hLgyC5WXRsR92fbXAtsBxZk614DjomITkmfAe6TNCYitu55kIiYD8wHaGxsjL51w8zMutJjyEfEpH2tl/RV4HxgYkREts+7wLvZ8+WSNgKfBFrzNtjMzEqX9+qaKcA3gGkR8XZR+XBJddnzTwCjgZfy1GVmZr3X45l8D24BDgYWSwJYll1JcxbwbUnvATuBSyPi9Zx1mZlZL+UK+Yg4rpvyhcDCPMc2M7P8/I1XM7OEOeTNzBLmkDczS5hD3swsYQ55M7OEOeTNzBLmkDczS5hD3swsYQ55M7OEOeTNzBLmkDczS5hD3swsYQ55M7OEOeTNzBLmkDczS5hD3swsYblDXtI/SVolaYWkxyR9PCuXpH+RtCFb/+n8zTUzs94ox5n8zRExLiLGAw8C38rKP0/h3q6jgdnArWWoy8zMeiF3yEfE1qLFQUBkz5uBO6NgGTBE0lF56zMzs9LlvZE3AJLmARcBbwDnZMVHA68Wbdaelb22x76zKZzpc8wxx5SjOWZmlinpTF7SEklrung0A0TEtRExAlgAXN6bBkTE/IhojIjG4cOH974HZmbWrZLO5CNiUonHWwA8DMwBNgMjitbVZ2VmZlYl5bi6ZnTRYjPwfPb8AeCi7Cqb04A3IuK1vQ5gZmYVU44x+RslfQrYCWwCLs3KHwamAhuAt4F/KENdZmbWC7lDPiIu6KY8gMvyHt/MzPrO33g1M0uYQ97MLGEOeTOzhDnkzcwS5pA3M0uYQ97MLGEOeTOzhDnkzcwS5pA3M0tYWaYaNjPrq/fee4/29na2bdtW66b0ewMHDqS+vp4BAwaUvI9D3sxqqr29ncGDBzNy5Egk1bo5/VZE0NnZSXt7Ow0NDSXv5+EaM6upbdu2MXToUAd8DyQxdOjQXr/jccibWc054EvTl5+TQ97MLGEekzezfmXk1Q+V9XhtN57X4zaS+PKXv8xdd90FwPbt2znqqKM49dRTefDBB0uua+TIkbS2tjJs2LA+bbNixQpOPvlkHnnkEaZMmVJyvfviM3kzO+ANGjSINWvW8M477wCwePFijj766Kq3o6WlhTPOOIOWlpayHTNXyEv6J0mrJK2Q9Jikj2flTZLeyMpXSPpWeZprZlYZU6dO5aGHCu8iWlpamDlz5u51r7/+Ol/4whcYN24cp512GqtWrQKgs7OTyZMnM2bMGC655BIK90oquOuuu5gwYQLjx4/na1/7Gjt27Nhn/RHBz3/+c26//XYWL15ctktK857J3xwR4yJiPPAgUBzmv4mI8dnj2znrMTOrqBkzZnD33Xezbds2Vq1axamnnrp73Zw5czj55JNZtWoV3/nOd7jooosAuOGGGzjjjDNYu3Yt06dP55VXXgFg/fr13HPPPTz11FOsWLGCuro6FixYsM/6n376aRoaGhg1ahRNTU27/+DklWtMPiK2Fi0OAqK7bc3M+rNx48bR1tZGS0sLU6dO/cC63/72tyxcuBCAc889l87OTrZu3cqTTz7JL37xCwDOO+88Dj30UAAef/xxli9fzimnnALAO++8w+GHH77P+ltaWpgxYwZQ+INz5513csEFXd5dtVdyf/AqaR5wEfAGcE7RqtMlrQT+N3BVRKztZv/ZwGyAY445Jm9zzMz6bNq0aVx11VUsXbqUzs7OPh8nIrj44ov57ne/W9L2O3bsYOHChdx///3Mmzdv9xef3nzzTQYPHtzndkAJwzWSlkha08WjOevMtRExAlgAXJ7t9hxwbET8NfA/gPu6O35EzI+IxohoHD58eK7OmJnlMWvWLObMmcPYsWM/UH7mmWfuHm5ZunQpw4YN42Mf+xhnnXUWP/3pTwF45JFH+POf/wzAxIkTuffee9myZQtQGNPftGlTt/U+/vjjjBs3jldffZW2tjY2bdrEBRdcwKJFi3L3qccz+YiYVOKxFgAPA3OKh3Ei4mFJP5A0LCL+1Md2mtkBopRLHiulvr6er3/963uVX3/99cyaNYtx48bxkY98hDvuuAMojNXPnDmTMWPG8NnPfnb3aMSJJ57I3LlzmTx5Mjt37mTAgAF8//vf59hjj+2y3paWFqZPn/6BsgsuuIBbb7119/h/X+UarpE0OiJezBabgeez8iOBf42IkDSBwjuGvr/3MTOroLfeemuvsqamJpqamgA47LDDuO+++/baZujQoTz22GNdHvPCCy/kwgsv3Ku8ra1tr7Kf/OQne5VNmzaNadOm7bvhJcg7Jn+jpE8BO4FNwKVZ+ReB/yBpO/AOMCOKry0yM7OqyHt1TZcf/UbELcAteY5tZmb5+RuvZmYJ89w1VnMlfdB2fcWbYZYkn8mbmSXMIW9mljAP15hZ/3L9X5X5eG/0uEl/mGp45MiRDB48mLq6Onbs2MHcuXNpbm4uue7uOOTN7IBXPNXwIYccUrOphp944gmGDRvGCy+8wOTJk8sS8h6uMTOj9lMNF9u6devuyc7ycsibmVH7qYYBzjnnHE466STOPvts5s6dW5Z+ebjGzIzaTzUM7w/XbNy4kYkTJ9LU1MRHP/rRXP1yyJuZZWo11fCeRo0axRFHHMG6deuYMGFCn9sBB1rIl/ApO3eM7XkbM0vSrFmzGDJkCGPHjmXp0qW7y3dNNfzNb36zy6mGr7vuur2mGm5ubuaKK67g8MMP5/XXX+fNN9/sdhbKPW3ZsoWXX3655O335cAKeTPr/0o5GauQWk01vMs555xDXV0d7733HjfeeCNHHHFE7j455M3sgFfrqYb3VZ6XQ96Ssfri1bVuglm/40sozcwS5jN52z/UcJzWbH9WtjN5SVdKCknDsmVJ+hdJGyStkvTpctVlZmalKcuZvKQRwGTglaLizwOjs8epwK3Zv/2ax3XNLCXlOpP/HvANoPg+rs3AnVGwDBgi6agy1WdmZiXIfSYvqRnYHBErJRWvOhp4tWi5PSt7bY/9ZwOzgd3XmJrZgWtsmb+QWMq78/4w1fBbb73FlVdeyZIlSxgyZAiDBw/mpptu+sAcOn1RUshLWgIc2cWqa4H/TGGopk8iYj4wH6CxsTF62NzMrOz6w1TDl1xyCQ0NDbz44oscdNBBvPzyy6xbty73cUsaromISRFx0p4P4CWgAVgpqQ2oB56TdCSwGRhRdJj6rMzMrN+p5VTDGzdu5Pe//z1z587loIMKsdzQ0MB555Vw/+Me5BqTj4jVEXF4RIyMiJEUhmQ+HRH/B3gAuCi7yuY04I2IeG1fxzMzq5VaTjW8du1axo8fT11dXdn7Vcnr5B8GpgIbgLeBf6hgXWZmufSHqYYroawhn53N73oewGXlPL6ZWSXVaqrhMWPGsHLlSnbs2FH2s3lPa2Bmlpk1axZz5sxh7NgPXuGza6phoMuphoG9phq+99572bJlC1AY09+0aVO39Y4aNYrGxkbmzJmze1y/ra1t92cEeXhaAzPrV2r5hcRaTjV82223ceWVV3LcccdxyCGHMGzYMG6++ebcfVLxp8G11tjYGK2trbVuhplV0fr16znhhBNq3Yz9Rlc/L0nLI6Kxq+09XGNmljCHvJlZwhzyZlZz/WnYuD/ry8/JIW9mNTVw4EA6Ozsd9D2ICDo7Oxk4cGCv9vPVNWZWU/X19bS3t9PR0VHrpvR7AwcOpL6+vlf7OOTNrKYGDBhAQ0NDrZuRLA/XmJklzCFvZpYwh7yZWcL61TdeJXUA3U/wUH7DgD9Vsb5qc//2byn3L+W+QfX7d2xEDO9qRb8K+WqT1NrdV4FT4P7t31LuX8p9g/7VPw/XmJklzCFvZpawAz3k59e6ARXm/u3fUu5fyn2DftS/A3pM3swsdQf6mbyZWdIc8mZmCXPIm5klzCGfkdQmadg+1k+R9IKkDZKurmbb8iqhbz+WtEXSmmq2q1z21T9JIyQ9IWmdpLWS/rHa7curh/4NlPSMpJVZ/26odvvy6un3M9umTtIfJD1YrXaVSwn//9okrZa0QlLZ73/qkC+BpDrg+8DngROBmZJOrG2ryup2YEqtG1Eh24ErI+JE4DTgssReu3eBcyPir4HxwBRJp9W2SRXxj8D6Wjeigs6JiPGV+AJVEiEv6SvZ2cwKST+SdJmkm4vWf1XSLdnz+yQtz856ZpdYxQRgQ0S8FBF/Ae4Gmsvfk71VoW9ExJPA6xVofo8q3b+IeC0insuev0khKI6uRF+6UoX+RUS8lS0OyB5Vu2SuGr+fkuqB84Dbyt+DHuuueP8qLiL26wdwAvBLYEC2/APgYgqhvGubR4AzsueHZf8eAqwBhmbLbcCwbur4InBb0fLfA7ek0Lei44wE1qT22nXRx1eAj6XUP6AOWAG8BdyU2usH3At8BmgCHkywfy8DzwHLgdnl7kcKNw2ZSOEX4FlJUPgBbwFeyt62vggcDzyVbf91SdOz5yOA0UBnVVtcupT7BlXsn6SPAguB/xgRW8vWg32rSv8iYgcwXtIQYJGkkyKiGp+vVLx/ks4HtkTEcklN5e5AD6r1+3lGRGyWdDiwWNLzUXh3XRYphLyAOyLimg8USrOAfwM8DyyKiMh+SSYBp0fE25KWAqXcMHEzhRdtl/qsrNKq0bdaqkr/JA2gEPALIuIX5Wt+z1VTxdcvIv6vpCcofL5SjZCvRv8+B0yTNDXb/mOS7oqIr5SvG92qyusXEZuzf7dIWkRheLhsIV+Vtz0Vfkt1IoW/qIfvessEHAscCmwEngAmZOuagV9mz48HtgFNPb2lovDH8CWgAfgwsBIYk0LfiuoaSfWHa6rx2gm4E/jvif5uDgeGZM8PAX4DnJ9K//aor4nqDtdU4/UbBAwuev40MKWc/djvP3iNiHXAdcBjklYBi4GjIuLPFD5kOzYinsk2/xXwIUnrgRuBZSXWsR24HHg0O+bPImJteXvSZb0V7xuApBbgd8CnJLVL+nfl7Ed3qtS/z1H4DOXc7MOzFdlZYcVVqX9HAU9kx38WWBwRVbnMsFq/n7VSpf4dAfxW0krgGeChiPhVOfvhuWvMzBK235/Jm5lZ91L44LVsJA0FHu9i1cSI6M9XqfQo5b6B+1ft9pSb+1fBuj1cY2aWLg/XmJklzCFvZpYwh7wdcCR9W9KkWrdjXyQ1Sfpsrdth+z9/8GoHnIj4VlflkuqiMEVAf9BEYS6ap2vcDtvP+Uze9itdzApYJ+ktSfNUmFN9maQjJP2VpE2SDsr2GyTpVUkDJN0u6YtZeZukmyQ9B3xJ0kwV5vZeI+mmonr3qiMrv13SrVnZS9kZ+I8lrZd0e9H+kyX9TtJzkn6ezaWzq/4bsvLVko6XNBK4FLgi6+eZVfsBW3Ic8rbfkHQCcCHwuYgYD+wAvkzh6+DLojCn+pPAv4+INyjMzHh2tvv5wKMR8V4Xh+6MiE9n+94EnEthbvZTJH0h22avOor2PxQ4HbgCeAD4HjAGGCtpvAo3jLgOmJTV0wr8p6L9/5SV3wpcFRFtwA+B70VhjvHf9PJHZbabQ972J8WzAq7Ilj8B/AXY9VX+5RTm4QG4h8IfBYAZ2XJXdpWfAiyNiI5sKosFwFnZuu7qgMKcJQGsBv41IlZHxE5gbbbdaRTmQXkqa/fFFOZA2WXXpGl7HtcsN4/J2/6ku1kBr4r3v/Cxg/d/rx8AviPpMAp/HP5XN8f9fyXU/V43dUDh7kwAO4ue71r+ULb94oiY2c2xd+2z53HNcvOZvO1PHge+mM27jaTDJB3b3cZRuGPSs8A/U5i9sKcPVZ8BzpY0TIVbPs4Efl2Gdi8DPifpuKzdgyR9sod93gQGl6FuO8A55G2/0d2sgD3sdg/wFbofqik+/mvA1RSmkF0JLI+I+3M1unDcDuCrQEvW7t9RmI52X34JTPcHr5aXpzUwM0uYz+TNzBLmkDczS5hD3swsYQ55M7OEOeTNzBLmkDczS5hD3swsYf8fdrf79Izuco8AAAAASUVORK5CYII=\n"
     },
     "metadata": {
      "needs_background": "light"
     },
     "output_type": "display_data"
    }
   ],
   "source": [
    "evaluation_rewards = data.loc[:, evaluation_names]\n",
    "evaluation_rewards = evaluation_rewards.swaplevel(i=0, j=1, )\n",
    "\n",
    "evaluation_rewards.unstack().plot(kind='bar', rot=0)\n",
    "plt.savefig(\"../results/CompareModelsTestNonCrippled.png\")"
   ],
   "metadata": {
    "collapsed": false,
    "pycharm": {
     "name": "#%%\n"
    }
   }
  },
  {
   "cell_type": "markdown",
   "source": [
    "Plots comparing the performance of all Models trained on non-crippled only vs multiple_envs"
   ],
   "metadata": {
    "collapsed": false
   }
  },
  {
   "cell_type": "code",
   "execution_count": 127,
   "outputs": [
    {
     "data": {
      "text/plain": "<Figure size 432x288 with 1 Axes>",
      "image/png": "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\n"
     },
     "metadata": {
      "needs_background": "light"
     },
     "output_type": "display_data"
    }
   ],
   "source": [
    "data = all_rewards['position_and_velocity_deltas']\n",
    "data.index = data.index.set_levels(['multiple dynamics', 'non crippled'], level=0)\n",
    "data.index = data.index.set_levels(['Model C', 'Model A', 'Model B'], level=1)\n",
    "data.index = data.index.set_names(['trained with','', 'environment'])\n",
    "data = data.sort_index()\n",
    "\n",
    "training_rewards = data.loc[:,:, training_names]\n",
    "\n",
    "training_rewards = training_rewards.swaplevel(i=0, j=1, )\n",
    "training_rewards = training_rewards.groupby(level=[0, 1]).mean()\n",
    "training_rewards.unstack().plot(kind='bar', rot=0)\n",
    "plt.savefig(\"../results/CompareModelsTrainingOptionsTraining.png\")"
   ],
   "metadata": {
    "collapsed": false,
    "pycharm": {
     "name": "#%%\n"
    }
   }
  },
  {
   "cell_type": "code",
   "execution_count": 128,
   "outputs": [
    {
     "data": {
      "text/plain": "<Figure size 432x288 with 1 Axes>",
      "image/png": "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\n"
     },
     "metadata": {
      "needs_background": "light"
     },
     "output_type": "display_data"
    }
   ],
   "source": [
    "evaluation_rewards = data.loc[:,:, evaluation_names]\n",
    "\n",
    "evaluation_rewards = evaluation_rewards.swaplevel(i=0, j=1, )\n",
    "evaluation_rewards = evaluation_rewards.groupby(level=[0, 1]).mean()\n",
    "evaluation_rewards.unstack().plot(kind='bar', rot=0)\n",
    "plt.savefig(\"../results/CompareModelsTrainingOptionsTest.png\")\n"
   ],
   "metadata": {
    "collapsed": false,
    "pycharm": {
     "name": "#%%\n"
    }
   }
  },
  {
   "cell_type": "markdown",
   "source": [
    "Plots comparing the performance of a Model trained on non-crippled only vs multiple_envs"
   ],
   "metadata": {
    "collapsed": false,
    "pycharm": {
     "name": "#%% md\n"
    }
   }
  },
  {
   "cell_type": "code",
   "execution_count": null,
   "outputs": [],
   "source": [
    "model_name = 'meta'\n",
    "model_name_new = \"Model C\"\n",
    "\n",
    "data = all_rewards['position_and_velocity_deltas', :, model_name]\n",
    "print(data)"
   ],
   "metadata": {
    "collapsed": false,
    "pycharm": {
     "name": "#%%\n"
    }
   }
  },
  {
   "cell_type": "code",
   "execution_count": null,
   "outputs": [],
   "source": [
    "data = all_rewards['position_and_velocity_deltas', :, :, 'training_0']\n"
   ],
   "metadata": {
    "collapsed": false,
    "pycharm": {
     "name": "#%%\n"
    }
   }
  },
  {
   "cell_type": "markdown",
   "source": [
    "This plot shows"
   ],
   "metadata": {
    "collapsed": false,
    "pycharm": {
     "name": "#%% md\n"
    }
   }
  },
  {
   "cell_type": "code",
<<<<<<< HEAD:Danki_Tobias/evaluation/plot_statistics.ipynb
   "execution_count": null,
   "outputs": [],
=======
<<<<<<< HEAD
   "execution_count": 92,
=======
   "execution_count": 23,
>>>>>>> 13b0c71b23c3e24d229b9ac74304cf2f57a3be90
   "outputs": [
    {
     "data": {
      "text/plain": "<AxesSubplot:xlabel='train_on,algorithm'>"
     },
<<<<<<< HEAD
     "execution_count": 92,
=======
     "execution_count": 23,
>>>>>>> 13b0c71b23c3e24d229b9ac74304cf2f57a3be90
     "metadata": {},
     "output_type": "execute_result"
    },
    {
     "data": {
      "text/plain": "<Figure size 432x288 with 1 Axes>",
<<<<<<< HEAD
      "image/png": "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\n"
=======
      "image/png": "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\n"
>>>>>>> 13b0c71b23c3e24d229b9ac74304cf2f57a3be90
     },
     "metadata": {
      "needs_background": "light"
     },
     "output_type": "display_data"
    }
   ],
>>>>>>> fb5ede217d0119c8321844a644db0df89cf8e1a0:Danki_Tobias/evaluation/plot_statistics_danki.ipynb
   "source": [
    "all_rewards['position_and_velocity_deltas', :, :, 'training_0'].plot(kind='bar')"
   ],
   "metadata": {
    "collapsed": false,
    "pycharm": {
     "name": "#%%\n"
    }
   }
  },
  {
   "cell_type": "code",
<<<<<<< HEAD:Danki_Tobias/evaluation/plot_statistics.ipynb
   "execution_count": null,
   "outputs": [],
=======
   "execution_count": 93,
   "outputs": [
    {
     "ename": "KeyError",
     "evalue": "('position', 'multiple_envs', 'normal', 'alle_training_envs')",
     "output_type": "error",
     "traceback": [
      "\u001B[0;31m---------------------------------------------------------------------------\u001B[0m",
      "\u001B[0;31mKeyError\u001B[0m                                  Traceback (most recent call last)",
      "\u001B[0;32m~/anaconda3/envs/SimulationFramework/lib/python3.7/site-packages/pandas/core/indexes/base.py\u001B[0m in \u001B[0;36mget_loc\u001B[0;34m(self, key, method, tolerance)\u001B[0m\n\u001B[1;32m   2894\u001B[0m             \u001B[0;32mtry\u001B[0m\u001B[0;34m:\u001B[0m\u001B[0;34m\u001B[0m\u001B[0;34m\u001B[0m\u001B[0m\n\u001B[0;32m-> 2895\u001B[0;31m                 \u001B[0;32mreturn\u001B[0m \u001B[0mself\u001B[0m\u001B[0;34m.\u001B[0m\u001B[0m_engine\u001B[0m\u001B[0;34m.\u001B[0m\u001B[0mget_loc\u001B[0m\u001B[0;34m(\u001B[0m\u001B[0mcasted_key\u001B[0m\u001B[0;34m)\u001B[0m\u001B[0;34m\u001B[0m\u001B[0;34m\u001B[0m\u001B[0m\n\u001B[0m\u001B[1;32m   2896\u001B[0m             \u001B[0;32mexcept\u001B[0m \u001B[0mKeyError\u001B[0m \u001B[0;32mas\u001B[0m \u001B[0merr\u001B[0m\u001B[0;34m:\u001B[0m\u001B[0;34m\u001B[0m\u001B[0;34m\u001B[0m\u001B[0m\n",
      "\u001B[0;32mpandas/_libs/index.pyx\u001B[0m in \u001B[0;36mpandas._libs.index.IndexEngine.get_loc\u001B[0;34m()\u001B[0m\n",
      "\u001B[0;32mpandas/_libs/index.pyx\u001B[0m in \u001B[0;36mpandas._libs.index.IndexEngine.get_loc\u001B[0;34m()\u001B[0m\n",
      "\u001B[0;32mpandas/_libs/hashtable_class_helper.pxi\u001B[0m in \u001B[0;36mpandas._libs.hashtable.PyObjectHashTable.get_item\u001B[0;34m()\u001B[0m\n",
      "\u001B[0;32mpandas/_libs/hashtable_class_helper.pxi\u001B[0m in \u001B[0;36mpandas._libs.hashtable.PyObjectHashTable.get_item\u001B[0;34m()\u001B[0m\n",
      "\u001B[0;31mKeyError\u001B[0m: 'alle_training_envs'",
      "\nThe above exception was the direct cause of the following exception:\n",
      "\u001B[0;31mKeyError\u001B[0m                                  Traceback (most recent call last)",
      "\u001B[0;32mpandas/_libs/index.pyx\u001B[0m in \u001B[0;36mpandas._libs.index.BaseMultiIndexCodesEngine.get_loc\u001B[0;34m()\u001B[0m\n",
      "\u001B[0;32m~/anaconda3/envs/SimulationFramework/lib/python3.7/site-packages/pandas/core/indexes/base.py\u001B[0m in \u001B[0;36mget_loc\u001B[0;34m(self, key, method, tolerance)\u001B[0m\n\u001B[1;32m   2896\u001B[0m             \u001B[0;32mexcept\u001B[0m \u001B[0mKeyError\u001B[0m \u001B[0;32mas\u001B[0m \u001B[0merr\u001B[0m\u001B[0;34m:\u001B[0m\u001B[0;34m\u001B[0m\u001B[0;34m\u001B[0m\u001B[0m\n\u001B[0;32m-> 2897\u001B[0;31m                 \u001B[0;32mraise\u001B[0m \u001B[0mKeyError\u001B[0m\u001B[0;34m(\u001B[0m\u001B[0mkey\u001B[0m\u001B[0;34m)\u001B[0m \u001B[0;32mfrom\u001B[0m \u001B[0merr\u001B[0m\u001B[0;34m\u001B[0m\u001B[0;34m\u001B[0m\u001B[0m\n\u001B[0m\u001B[1;32m   2898\u001B[0m \u001B[0;34m\u001B[0m\u001B[0m\n",
      "\u001B[0;31mKeyError\u001B[0m: 'alle_training_envs'",
      "\nDuring handling of the above exception, another exception occurred:\n",
      "\u001B[0;31mKeyError\u001B[0m                                  Traceback (most recent call last)",
      "\u001B[0;32m~/anaconda3/envs/SimulationFramework/lib/python3.7/site-packages/pandas/core/series.py\u001B[0m in \u001B[0;36m__getitem__\u001B[0;34m(self, key)\u001B[0m\n\u001B[1;32m    887\u001B[0m                 \u001B[0;31m# For labels that don't resolve as scalars like tuples and frozensets\u001B[0m\u001B[0;34m\u001B[0m\u001B[0;34m\u001B[0m\u001B[0;34m\u001B[0m\u001B[0m\n\u001B[0;32m--> 888\u001B[0;31m                 \u001B[0mresult\u001B[0m \u001B[0;34m=\u001B[0m \u001B[0mself\u001B[0m\u001B[0;34m.\u001B[0m\u001B[0m_get_value\u001B[0m\u001B[0;34m(\u001B[0m\u001B[0mkey\u001B[0m\u001B[0;34m)\u001B[0m\u001B[0;34m\u001B[0m\u001B[0;34m\u001B[0m\u001B[0m\n\u001B[0m\u001B[1;32m    889\u001B[0m \u001B[0;34m\u001B[0m\u001B[0m\n",
      "\u001B[0;32m~/anaconda3/envs/SimulationFramework/lib/python3.7/site-packages/pandas/core/series.py\u001B[0m in \u001B[0;36m_get_value\u001B[0;34m(self, label, takeable)\u001B[0m\n\u001B[1;32m    988\u001B[0m         \u001B[0;31m# Similar to Index.get_value, but we do not fall back to positional\u001B[0m\u001B[0;34m\u001B[0m\u001B[0;34m\u001B[0m\u001B[0;34m\u001B[0m\u001B[0m\n\u001B[0;32m--> 989\u001B[0;31m         \u001B[0mloc\u001B[0m \u001B[0;34m=\u001B[0m \u001B[0mself\u001B[0m\u001B[0;34m.\u001B[0m\u001B[0mindex\u001B[0m\u001B[0;34m.\u001B[0m\u001B[0mget_loc\u001B[0m\u001B[0;34m(\u001B[0m\u001B[0mlabel\u001B[0m\u001B[0;34m)\u001B[0m\u001B[0;34m\u001B[0m\u001B[0;34m\u001B[0m\u001B[0m\n\u001B[0m\u001B[1;32m    990\u001B[0m         \u001B[0;32mreturn\u001B[0m \u001B[0mself\u001B[0m\u001B[0;34m.\u001B[0m\u001B[0mindex\u001B[0m\u001B[0;34m.\u001B[0m\u001B[0m_get_values_for_loc\u001B[0m\u001B[0;34m(\u001B[0m\u001B[0mself\u001B[0m\u001B[0;34m,\u001B[0m \u001B[0mloc\u001B[0m\u001B[0;34m,\u001B[0m \u001B[0mlabel\u001B[0m\u001B[0;34m)\u001B[0m\u001B[0;34m\u001B[0m\u001B[0;34m\u001B[0m\u001B[0m\n",
      "\u001B[0;32m~/anaconda3/envs/SimulationFramework/lib/python3.7/site-packages/pandas/core/indexes/multi.py\u001B[0m in \u001B[0;36mget_loc\u001B[0;34m(self, key, method)\u001B[0m\n\u001B[1;32m   2713\u001B[0m         \u001B[0;32mif\u001B[0m \u001B[0mkeylen\u001B[0m \u001B[0;34m==\u001B[0m \u001B[0mself\u001B[0m\u001B[0;34m.\u001B[0m\u001B[0mnlevels\u001B[0m \u001B[0;32mand\u001B[0m \u001B[0mself\u001B[0m\u001B[0;34m.\u001B[0m\u001B[0mis_unique\u001B[0m\u001B[0;34m:\u001B[0m\u001B[0;34m\u001B[0m\u001B[0;34m\u001B[0m\u001B[0m\n\u001B[0;32m-> 2714\u001B[0;31m             \u001B[0;32mreturn\u001B[0m \u001B[0mself\u001B[0m\u001B[0;34m.\u001B[0m\u001B[0m_engine\u001B[0m\u001B[0;34m.\u001B[0m\u001B[0mget_loc\u001B[0m\u001B[0;34m(\u001B[0m\u001B[0mkey\u001B[0m\u001B[0;34m)\u001B[0m\u001B[0;34m\u001B[0m\u001B[0;34m\u001B[0m\u001B[0m\n\u001B[0m\u001B[1;32m   2715\u001B[0m \u001B[0;34m\u001B[0m\u001B[0m\n",
      "\u001B[0;32mpandas/_libs/index.pyx\u001B[0m in \u001B[0;36mpandas._libs.index.BaseMultiIndexCodesEngine.get_loc\u001B[0;34m()\u001B[0m\n",
      "\u001B[0;31mKeyError\u001B[0m: ('position', 'multiple_envs', 'normal', 'alle_training_envs')",
      "\nDuring handling of the above exception, another exception occurred:\n",
      "\u001B[0;31mKeyError\u001B[0m                                  Traceback (most recent call last)",
      "\u001B[0;32m~/anaconda3/envs/SimulationFramework/lib/python3.7/site-packages/pandas/core/indexes/base.py\u001B[0m in \u001B[0;36mget_loc\u001B[0;34m(self, key, method, tolerance)\u001B[0m\n\u001B[1;32m   2894\u001B[0m             \u001B[0;32mtry\u001B[0m\u001B[0;34m:\u001B[0m\u001B[0;34m\u001B[0m\u001B[0;34m\u001B[0m\u001B[0m\n\u001B[0;32m-> 2895\u001B[0;31m                 \u001B[0;32mreturn\u001B[0m \u001B[0mself\u001B[0m\u001B[0;34m.\u001B[0m\u001B[0m_engine\u001B[0m\u001B[0;34m.\u001B[0m\u001B[0mget_loc\u001B[0m\u001B[0;34m(\u001B[0m\u001B[0mcasted_key\u001B[0m\u001B[0;34m)\u001B[0m\u001B[0;34m\u001B[0m\u001B[0;34m\u001B[0m\u001B[0m\n\u001B[0m\u001B[1;32m   2896\u001B[0m             \u001B[0;32mexcept\u001B[0m \u001B[0mKeyError\u001B[0m \u001B[0;32mas\u001B[0m \u001B[0merr\u001B[0m\u001B[0;34m:\u001B[0m\u001B[0;34m\u001B[0m\u001B[0;34m\u001B[0m\u001B[0m\n",
      "\u001B[0;32mpandas/_libs/index.pyx\u001B[0m in \u001B[0;36mpandas._libs.index.IndexEngine.get_loc\u001B[0;34m()\u001B[0m\n",
      "\u001B[0;32mpandas/_libs/index.pyx\u001B[0m in \u001B[0;36mpandas._libs.index.IndexEngine.get_loc\u001B[0;34m()\u001B[0m\n",
      "\u001B[0;32mpandas/_libs/hashtable_class_helper.pxi\u001B[0m in \u001B[0;36mpandas._libs.hashtable.PyObjectHashTable.get_item\u001B[0;34m()\u001B[0m\n",
      "\u001B[0;32mpandas/_libs/hashtable_class_helper.pxi\u001B[0m in \u001B[0;36mpandas._libs.hashtable.PyObjectHashTable.get_item\u001B[0;34m()\u001B[0m\n",
      "\u001B[0;31mKeyError\u001B[0m: 'alle_training_envs'",
      "\nThe above exception was the direct cause of the following exception:\n",
      "\u001B[0;31mKeyError\u001B[0m                                  Traceback (most recent call last)",
      "\u001B[0;32mpandas/_libs/index.pyx\u001B[0m in \u001B[0;36mpandas._libs.index.BaseMultiIndexCodesEngine.get_loc\u001B[0;34m()\u001B[0m\n",
      "\u001B[0;32m~/anaconda3/envs/SimulationFramework/lib/python3.7/site-packages/pandas/core/indexes/base.py\u001B[0m in \u001B[0;36mget_loc\u001B[0;34m(self, key, method, tolerance)\u001B[0m\n\u001B[1;32m   2896\u001B[0m             \u001B[0;32mexcept\u001B[0m \u001B[0mKeyError\u001B[0m \u001B[0;32mas\u001B[0m \u001B[0merr\u001B[0m\u001B[0;34m:\u001B[0m\u001B[0;34m\u001B[0m\u001B[0;34m\u001B[0m\u001B[0m\n\u001B[0;32m-> 2897\u001B[0;31m                 \u001B[0;32mraise\u001B[0m \u001B[0mKeyError\u001B[0m\u001B[0;34m(\u001B[0m\u001B[0mkey\u001B[0m\u001B[0;34m)\u001B[0m \u001B[0;32mfrom\u001B[0m \u001B[0merr\u001B[0m\u001B[0;34m\u001B[0m\u001B[0;34m\u001B[0m\u001B[0m\n\u001B[0m\u001B[1;32m   2898\u001B[0m \u001B[0;34m\u001B[0m\u001B[0m\n",
      "\u001B[0;31mKeyError\u001B[0m: 'alle_training_envs'",
      "\nDuring handling of the above exception, another exception occurred:\n",
      "\u001B[0;31mKeyError\u001B[0m                                  Traceback (most recent call last)",
      "\u001B[0;32m~/anaconda3/envs/SimulationFramework/lib/python3.7/site-packages/pandas/core/indexes/multi.py\u001B[0m in \u001B[0;36mget_loc_level\u001B[0;34m(self, key, level, drop_level)\u001B[0m\n\u001B[1;32m   2852\u001B[0m                     \u001B[0;32mtry\u001B[0m\u001B[0;34m:\u001B[0m\u001B[0;34m\u001B[0m\u001B[0;34m\u001B[0m\u001B[0m\n\u001B[0;32m-> 2853\u001B[0;31m                         \u001B[0;32mreturn\u001B[0m \u001B[0;34m(\u001B[0m\u001B[0mself\u001B[0m\u001B[0;34m.\u001B[0m\u001B[0m_engine\u001B[0m\u001B[0;34m.\u001B[0m\u001B[0mget_loc\u001B[0m\u001B[0;34m(\u001B[0m\u001B[0mkey\u001B[0m\u001B[0;34m)\u001B[0m\u001B[0;34m,\u001B[0m \u001B[0;32mNone\u001B[0m\u001B[0;34m)\u001B[0m\u001B[0;34m\u001B[0m\u001B[0;34m\u001B[0m\u001B[0m\n\u001B[0m\u001B[1;32m   2854\u001B[0m                     \u001B[0;32mexcept\u001B[0m \u001B[0mKeyError\u001B[0m \u001B[0;32mas\u001B[0m \u001B[0me\u001B[0m\u001B[0;34m:\u001B[0m\u001B[0;34m\u001B[0m\u001B[0;34m\u001B[0m\u001B[0m\n",
      "\u001B[0;32mpandas/_libs/index.pyx\u001B[0m in \u001B[0;36mpandas._libs.index.BaseMultiIndexCodesEngine.get_loc\u001B[0;34m()\u001B[0m\n",
      "\u001B[0;31mKeyError\u001B[0m: ('position', 'multiple_envs', 'normal', 'alle_training_envs')",
      "\nThe above exception was the direct cause of the following exception:\n",
      "\u001B[0;31mKeyError\u001B[0m                                  Traceback (most recent call last)",
      "\u001B[0;32m<ipython-input-93-91d7764ba95d>\u001B[0m in \u001B[0;36m<module>\u001B[0;34m\u001B[0m\n\u001B[0;32m----> 1\u001B[0;31m \u001B[0mall_rewards\u001B[0m\u001B[0;34m[\u001B[0m\u001B[0;34m'position'\u001B[0m\u001B[0;34m,\u001B[0m \u001B[0;34m'multiple_envs'\u001B[0m\u001B[0;34m,\u001B[0m \u001B[0;34m'normal'\u001B[0m\u001B[0;34m,\u001B[0m \u001B[0;34m'alle_training_envs'\u001B[0m\u001B[0;34m]\u001B[0m\u001B[0;34m.\u001B[0m\u001B[0mplot\u001B[0m\u001B[0;34m(\u001B[0m\u001B[0mkind\u001B[0m\u001B[0;34m=\u001B[0m\u001B[0;34m'bar'\u001B[0m\u001B[0;34m)\u001B[0m\u001B[0;34m\u001B[0m\u001B[0;34m\u001B[0m\u001B[0m\n\u001B[0m\u001B[1;32m      2\u001B[0m \u001B[0mall_rewards\u001B[0m\u001B[0;34m[\u001B[0m\u001B[0;34m'position'\u001B[0m\u001B[0;34m,\u001B[0m \u001B[0;34m'non_crippled'\u001B[0m\u001B[0;34m,\u001B[0m \u001B[0;34m'normal'\u001B[0m\u001B[0;34m,\u001B[0m \u001B[0;34m'alle_training_envs'\u001B[0m\u001B[0;34m]\u001B[0m\u001B[0;34m.\u001B[0m\u001B[0mplot\u001B[0m\u001B[0;34m(\u001B[0m\u001B[0mkind\u001B[0m\u001B[0;34m=\u001B[0m\u001B[0;34m'bar'\u001B[0m\u001B[0;34m)\u001B[0m\u001B[0;34m\u001B[0m\u001B[0;34m\u001B[0m\u001B[0m\n\u001B[1;32m      3\u001B[0m \u001B[0;34m\u001B[0m\u001B[0m\n",
      "\u001B[0;32m~/anaconda3/envs/SimulationFramework/lib/python3.7/site-packages/pandas/core/series.py\u001B[0m in \u001B[0;36m__getitem__\u001B[0;34m(self, key)\u001B[0m\n\u001B[1;32m    894\u001B[0m                     \u001B[0;31m# We still have the corner case where a tuple is a key\u001B[0m\u001B[0;34m\u001B[0m\u001B[0;34m\u001B[0m\u001B[0;34m\u001B[0m\u001B[0m\n\u001B[1;32m    895\u001B[0m                     \u001B[0;31m# in the first level of our MultiIndex\u001B[0m\u001B[0;34m\u001B[0m\u001B[0;34m\u001B[0m\u001B[0;34m\u001B[0m\u001B[0m\n\u001B[0;32m--> 896\u001B[0;31m                     \u001B[0;32mreturn\u001B[0m \u001B[0mself\u001B[0m\u001B[0;34m.\u001B[0m\u001B[0m_get_values_tuple\u001B[0m\u001B[0;34m(\u001B[0m\u001B[0mkey\u001B[0m\u001B[0;34m)\u001B[0m\u001B[0;34m\u001B[0m\u001B[0;34m\u001B[0m\u001B[0m\n\u001B[0m\u001B[1;32m    897\u001B[0m \u001B[0;34m\u001B[0m\u001B[0m\n\u001B[1;32m    898\u001B[0m         \u001B[0;32mif\u001B[0m \u001B[0mis_iterator\u001B[0m\u001B[0;34m(\u001B[0m\u001B[0mkey\u001B[0m\u001B[0;34m)\u001B[0m\u001B[0;34m:\u001B[0m\u001B[0;34m\u001B[0m\u001B[0;34m\u001B[0m\u001B[0m\n",
      "\u001B[0;32m~/anaconda3/envs/SimulationFramework/lib/python3.7/site-packages/pandas/core/series.py\u001B[0m in \u001B[0;36m_get_values_tuple\u001B[0;34m(self, key)\u001B[0m\n\u001B[1;32m    957\u001B[0m \u001B[0;34m\u001B[0m\u001B[0m\n\u001B[1;32m    958\u001B[0m         \u001B[0;31m# If key is contained, would have returned by now\u001B[0m\u001B[0;34m\u001B[0m\u001B[0;34m\u001B[0m\u001B[0;34m\u001B[0m\u001B[0m\n\u001B[0;32m--> 959\u001B[0;31m         \u001B[0mindexer\u001B[0m\u001B[0;34m,\u001B[0m \u001B[0mnew_index\u001B[0m \u001B[0;34m=\u001B[0m \u001B[0mself\u001B[0m\u001B[0;34m.\u001B[0m\u001B[0mindex\u001B[0m\u001B[0;34m.\u001B[0m\u001B[0mget_loc_level\u001B[0m\u001B[0;34m(\u001B[0m\u001B[0mkey\u001B[0m\u001B[0;34m)\u001B[0m\u001B[0;34m\u001B[0m\u001B[0;34m\u001B[0m\u001B[0m\n\u001B[0m\u001B[1;32m    960\u001B[0m         return self._constructor(self._values[indexer], index=new_index).__finalize__(\n\u001B[1;32m    961\u001B[0m             \u001B[0mself\u001B[0m\u001B[0;34m,\u001B[0m\u001B[0;34m\u001B[0m\u001B[0;34m\u001B[0m\u001B[0m\n",
      "\u001B[0;32m~/anaconda3/envs/SimulationFramework/lib/python3.7/site-packages/pandas/core/indexes/multi.py\u001B[0m in \u001B[0;36mget_loc_level\u001B[0;34m(self, key, level, drop_level)\u001B[0m\n\u001B[1;32m   2853\u001B[0m                         \u001B[0;32mreturn\u001B[0m \u001B[0;34m(\u001B[0m\u001B[0mself\u001B[0m\u001B[0;34m.\u001B[0m\u001B[0m_engine\u001B[0m\u001B[0;34m.\u001B[0m\u001B[0mget_loc\u001B[0m\u001B[0;34m(\u001B[0m\u001B[0mkey\u001B[0m\u001B[0;34m)\u001B[0m\u001B[0;34m,\u001B[0m \u001B[0;32mNone\u001B[0m\u001B[0;34m)\u001B[0m\u001B[0;34m\u001B[0m\u001B[0;34m\u001B[0m\u001B[0m\n\u001B[1;32m   2854\u001B[0m                     \u001B[0;32mexcept\u001B[0m \u001B[0mKeyError\u001B[0m \u001B[0;32mas\u001B[0m \u001B[0me\u001B[0m\u001B[0;34m:\u001B[0m\u001B[0;34m\u001B[0m\u001B[0;34m\u001B[0m\u001B[0m\n\u001B[0;32m-> 2855\u001B[0;31m                         \u001B[0;32mraise\u001B[0m \u001B[0mKeyError\u001B[0m\u001B[0;34m(\u001B[0m\u001B[0mkey\u001B[0m\u001B[0;34m)\u001B[0m \u001B[0;32mfrom\u001B[0m \u001B[0me\u001B[0m\u001B[0;34m\u001B[0m\u001B[0;34m\u001B[0m\u001B[0m\n\u001B[0m\u001B[1;32m   2856\u001B[0m                 \u001B[0;32melse\u001B[0m\u001B[0;34m:\u001B[0m\u001B[0;34m\u001B[0m\u001B[0;34m\u001B[0m\u001B[0m\n\u001B[1;32m   2857\u001B[0m                     \u001B[0;32mreturn\u001B[0m \u001B[0mpartial_selection\u001B[0m\u001B[0;34m(\u001B[0m\u001B[0mkey\u001B[0m\u001B[0;34m)\u001B[0m\u001B[0;34m\u001B[0m\u001B[0;34m\u001B[0m\u001B[0m\n",
      "\u001B[0;31mKeyError\u001B[0m: ('position', 'multiple_envs', 'normal', 'alle_training_envs')"
     ]
    }
   ],
   "source": [
    "all_rewards['position', 'multiple_envs', 'normal', 'alle_training_envs'].plot(kind='bar')\n",
    "all_rewards['position', 'non_crippled', 'normal', 'alle_training_envs'].plot(kind='bar')"
   ],
   "metadata": {
    "collapsed": false,
    "pycharm": {
     "name": "#%%\n"
    }
   }
  },
  {
   "cell_type": "markdown",
   "source": [
    "Danki\n",
    "-------------------------------------------------------------------------"
   ],
   "metadata": {
    "collapsed": false
   }
  },
  {
   "cell_type": "code",
   "execution_count": null,
   "outputs": [],
   "source": [
    "# Load data\n",
    "reward_normal = train_rewards['position_and_velocity_deltas', 'multiple_envs', 'normal', :]\n",
    "reward_meta = train_rewards['position_and_velocity_deltas', 'multiple_envs', 'meta', :]\n",
    "reward_online_adaptation = train_rewards['position_and_velocity_deltas', 'multiple_envs', 'online_adaptation', :]"
   ],
   "metadata": {
    "collapsed": false,
    "pycharm": {
     "name": "#%%\n"
    }
   }
  },
  {
   "cell_type": "code",
   "execution_count": null,
   "outputs": [],
   "source": [
    "reward_normal_test = test_rewards['position_and_velocity_deltas', 'non_crippled', 'normal', :]\n",
    "reward_meta_test = test_rewards['position_and_velocity_deltas', 'non_crippled', 'meta', :]\n",
    "reward_online_adaptation_test = test_rewards['position_and_velocity_deltas', 'non_crippled', 'online_adaptation', :]\n"
   ],
   "metadata": {
    "collapsed": false,
    "pycharm": {
     "name": "#%%\n"
    }
   }
  },
  {
   "cell_type": "markdown",
   "source": [
    "Models of three algorithms trained on non-crippled data.\n",
    "Test of models of training time on non-crippled and crippled robots."
   ],
   "metadata": {
    "collapsed": false
   }
  },
  {
   "cell_type": "markdown",
   "source": [
    "Side node:\n",
    "normal==Model A==seagreen\n",
    "adaptation==Model B==tomato\n",
    "meta==Model C==royalblue"
   ],
   "metadata": {
    "collapsed": false,
    "pycharm": {
     "name": "#%% md\n"
    }
   }
  },
  {
   "cell_type": "code",
   "execution_count": 94,
   "outputs": [
    {
     "data": {
      "text/plain": "<Figure size 432x288 with 1 Axes>",
      "image/png": "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\n"
     },
     "metadata": {
      "needs_background": "light"
     },
     "output_type": "display_data"
    }
   ],
   "source": [
    "# draw parallel reward plot\n",
    "bar_width = 0.3\n",
    "index_normal = np.arange(len(train_names))\n",
    "index_online_adaptation = index_normal + bar_width\n",
    "index_meta = index_online_adaptation + bar_width\n",
    "\n",
    "plt.bar(index_normal, height=reward_normal, width=bar_width, color='seagreen', label='Model A')\n",
    "plt.bar(index_online_adaptation, height=reward_online_adaptation, width=bar_width, color='tomato', label='Model B')\n",
    "plt.bar(index_meta, height=reward_meta, width=bar_width, color='royalblue', label='Model C')\n",
    "\n",
    "plt.legend()\n",
    "plt.xticks(index_normal + bar_width, train_names)\n",
    "plt.ylabel('reward')\n",
    "\n",
    "plt.savefig(\"non-crippled models comparison training\", bbox_inches='tight')\n",
    "plt.show()"
   ],
   "metadata": {
    "collapsed": false,
    "pycharm": {
     "name": "#%%\n"
    }
   }
  },
  {
   "cell_type": "markdown",
   "source": [
    "Models of three algorithms trained on non-crippled data.\n",
    "Tests of models of training time on non-crippled and crippled robots."
   ],
   "metadata": {
    "collapsed": false
   }
  },
  {
   "cell_type": "code",
   "execution_count": 95,
   "outputs": [
    {
     "data": {
      "text/plain": "<Figure size 432x288 with 1 Axes>",
      "image/png": "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\n"
     },
     "metadata": {
      "needs_background": "light"
     },
     "output_type": "display_data"
    }
   ],
>>>>>>> fb5ede217d0119c8321844a644db0df89cf8e1a0:Danki_Tobias/evaluation/plot_statistics_danki.ipynb
   "source": [
    "bar_width = 0.3\n",
    "\n",
    "index_normal = np.arange(len(test_names))\n",
    "index_online_adaptation = index_normal + bar_width\n",
    "index_meta = index_online_adaptation + bar_width\n",
    "\n",
    "plt.bar(index_normal, height=reward_normal_test, width=bar_width, color='seagreen', label='Model A')\n",
    "plt.bar(index_online_adaptation, height=reward_online_adaptation_test, width=bar_width, color='tomato', label='Model B')\n",
    "plt.bar(index_meta, height=reward_meta_test, width=bar_width, color='royalblue', label='Model C')\n",
    "\n",
    "plt.legend()\n",
    "plt.xticks(index_normal + bar_width, test_names)\n",
    "plt.ylabel('reward')\n",
    "\n",
    "plt.savefig(\"non-crippled models comparison testing\", bbox_inches='tight')\n",
    "plt.show()"
   ],
   "metadata": {
    "collapsed": false,
    "pycharm": {
     "name": "#%%\n"
    }
   }
  },
  {
   "cell_type": "markdown",
   "source": [
    "Models trained on non-crippled data and multi-environment -> same algorithm different model performance comparison"
   ],
   "metadata": {
    "collapsed": false,
    "pycharm": {
     "name": "#%% md\n"
    }
   }
  },
  {
   "cell_type": "markdown",
   "source": [
    "1. normal algorithm"
   ],
   "metadata": {
    "collapsed": false,
    "pycharm": {
     "name": "#%% md\n"
    }
   }
  },
  {
   "cell_type": "code",
   "execution_count": 96,
   "outputs": [],
   "source": [
    "# Load data\n",
    "\n",
    "# normal\n",
    "normal1 = test_rewards['position_and_velocity_deltas', 'non_crippled', 'normal', :]\n",
    "normal2 = test_rewards['position_and_velocity_deltas', 'multiple_envs', 'normal', :]\n",
    "\n",
    "# meta\n",
    "meta1 = test_rewards['position_and_velocity_deltas', 'non_crippled', 'meta', :]\n",
    "meta2 = test_rewards['position_and_velocity_deltas', 'multiple_envs', 'meta', :]\n",
    "\n",
    "# adaptation\n",
    "adaptation1 = test_rewards['position_and_velocity_deltas', 'non_crippled', 'online_adaptation', :]\n",
    "adaptation2 = test_rewards['position_and_velocity_deltas', 'multiple_envs', 'online_adaptation', :]"
   ],
   "metadata": {
    "collapsed": false,
    "pycharm": {
     "name": "#%%\n"
    }
   }
  },
  {
   "cell_type": "code",
   "execution_count": 97,
   "outputs": [
    {
     "data": {
      "text/plain": "<Figure size 432x288 with 1 Axes>",
      "image/png": "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\n"
     },
     "metadata": {
      "needs_background": "light"
     },
     "output_type": "display_data"
    }
   ],
   "source": [
    "bar_width = 0.3\n",
    "index_normal1 = np.arange(len(test_names))\n",
    "index_normal2 = index_normal + bar_width\n",
    "\n",
    "plt.bar(index_normal1, height=normal1, width=bar_width, color='seagreen', label='non crippled')\n",
    "plt.bar(index_normal2, height=normal2, width=bar_width, color='darkseagreen', label='multiple dynamics')\n",
    "\n",
    "plt.legend()\n",
    "plt.xticks(index_normal + 0.5 * bar_width, test_names)\n",
    "plt.ylabel('reward')\n",
    "\n",
    "plt.savefig(\"normal non and multi_envs\")\n",
    "plt.show()"
   ],
   "metadata": {
    "collapsed": false,
    "pycharm": {
     "name": "#%%\n"
    }
   }
  },
  {
   "cell_type": "code",
   "execution_count": 98,
   "outputs": [
    {
     "data": {
      "text/plain": "<Figure size 432x288 with 1 Axes>",
      "image/png": "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\n"
     },
     "metadata": {
      "needs_background": "light"
     },
     "output_type": "display_data"
    }
   ],
   "source": [
    "# meta == Model C\n",
    "bar_width = 0.3\n",
    "index_normal1 = np.arange(len(test_names))\n",
    "index_normal2 = index_normal + bar_width\n",
    "\n",
    "plt.bar(index_normal1, height=meta1, width=bar_width, color='tomato', label='non crippled')\n",
    "plt.bar(index_normal2, height=meta2, width=bar_width, color='lightsalmon', label='multiple dynamics')\n",
    "\n",
    "plt.legend()\n",
    "plt.xticks(index_normal + 0.5 * bar_width, test_names)\n",
    "plt.ylabel('reward')\n",
    "\n",
    "plt.savefig(\"meta non and multi_envs\")\n",
    "plt.show()"
   ],
   "metadata": {
    "collapsed": false,
    "pycharm": {
     "name": "#%%\n"
    }
   }
  },
  {
   "cell_type": "code",
   "execution_count": 99,
   "outputs": [
    {
     "data": {
      "text/plain": "<Figure size 432x288 with 1 Axes>",
      "image/png": "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\n"
     },
     "metadata": {
      "needs_background": "light"
     },
     "output_type": "display_data"
    }
   ],
   "source": [
    "# adaptation == Model B\n",
    "bar_width = 0.3\n",
    "index_normal1 = np.arange(len(test_names))\n",
    "index_normal2 = index_normal + bar_width\n",
    "\n",
    "plt.bar(index_normal1, height=adaptation1, width=bar_width, color='royalblue', label='non crippled')\n",
    "plt.bar(index_normal2, height=adaptation2, width=bar_width, color='lightsteelblue', label='multiple dynamics')\n",
    "\n",
    "plt.legend()\n",
    "plt.xticks(index_normal + 0.5 * bar_width, test_names)\n",
    "plt.ylabel('reward')\n",
    "\n",
    "plt.savefig(\"adaptation non and multi_envs\")\n",
    "plt.show()"
   ],
   "metadata": {
    "collapsed": false,
    "pycharm": {
     "name": "#%%\n"
    }
   }
  }
 ],
 "metadata": {
  "kernelspec": {
   "display_name": "Python 3",
   "language": "python",
   "name": "python3"
  },
  "language_info": {
   "codemirror_mode": {
    "name": "ipython",
    "version": 2
   },
   "file_extension": ".py",
   "mimetype": "text/x-python",
   "name": "python",
   "nbconvert_exporter": "python",
   "pygments_lexer": "ipython2",
   "version": "2.7.6"
  }
 },
 "nbformat": 4,
 "nbformat_minor": 0
}